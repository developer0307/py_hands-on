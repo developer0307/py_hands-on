{
 "cells": [
  {
   "cell_type": "code",
   "execution_count": null,
   "metadata": {
    "scrolled": true
   },
   "outputs": [],
   "source": [
    "# Create a game of guess the number :\n",
    "\n",
    "# 1. Create a script that will ask the user how many games they would like to play\n",
    "\n",
    "# 2. For every game, ask the player to select a random number between 1 - 25\n",
    "\n",
    "# 3. Inform player if the number is higher or lower\n",
    "\n",
    "# 4. Build a loop statement that will iterate number of games and numbers picked\n",
    "\n",
    "# 5. When user guesses right, tell them how many guesses it took.\n",
    "\n",
    "import random as r\n",
    "numofgames = input(\"Number of games you want to play:\")\n",
    "numofgames = int(numofgames)\n",
    "\n",
    "# while(i < numofgames):\n",
    "for i in range(0,numofgames):\n",
    "    attempts=0\n",
    "    randvar=r.randint(1,25)\n",
    "    print('this is the random number: %s'%randvar)\n",
    "    userguess = None\n",
    "    while(randvar != userguess):\n",
    "        userguess = int(input(\"Guess the number between 1 to 25 : \"))\n",
    "        if(randvar != userguess):\n",
    "            attempts+=1\n",
    "            if(randvar > userguess):\n",
    "                print('select a greater number')\n",
    "            elif(randvar < userguess):\n",
    "                print('select a lesser number')\n",
    "        else:\n",
    "            print('Hurray! You guessed it right. Number of attempts :'+str(attempts+1))   "
   ]
  },
  {
   "cell_type": "code",
   "execution_count": null,
   "metadata": {},
   "outputs": [],
   "source": []
  }
 ],
 "metadata": {
  "kernelspec": {
   "display_name": "Python 3",
   "language": "python",
   "name": "python3"
  },
  "language_info": {
   "codemirror_mode": {
    "name": "ipython",
    "version": 3
   },
   "file_extension": ".py",
   "mimetype": "text/x-python",
   "name": "python",
   "nbconvert_exporter": "python",
   "pygments_lexer": "ipython3",
   "version": "3.8.3"
  }
 },
 "nbformat": 4,
 "nbformat_minor": 4
}
